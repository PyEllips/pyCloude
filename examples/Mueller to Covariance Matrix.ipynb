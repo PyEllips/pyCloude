{
 "cells": [
  {
   "cell_type": "code",
   "execution_count": 1,
   "id": "c13f6a83-027c-436f-b22e-b05baccfc69c",
   "metadata": {},
   "outputs": [],
   "source": [
    "from sympy import symbols, zeros, Trace"
   ]
  },
  {
   "cell_type": "code",
   "execution_count": 7,
   "id": "f842e250-e4ff-4fc4-a439-75bb947bc49e",
   "metadata": {},
   "outputs": [],
   "source": [
    "σ = {}\n",
    "σ[0] = [[1, 0], \n",
    "        [0, 1]]\n",
    "σ[1] = [[1, 0], \n",
    "        [0, -1]]\n",
    "σ[2] = [[0, 1], \n",
    "        [1, 0]]\n",
    "σ[3] = [[0, 1j], \n",
    "        [-1j, 0]]"
   ]
  },
  {
   "cell_type": "code",
   "execution_count": 8,
   "id": "4c985dd2-7802-47fc-9ac6-f91babb5b7ac",
   "metadata": {},
   "outputs": [
    {
     "data": {
      "text/latex": [
       "$\\displaystyle \\left[\\begin{matrix}m_{00} + m_{01} + m_{10} + m_{11} & m_{02} + 1.0 i m_{03} + m_{12} + 1.0 i m_{13} & m_{20} + m_{21} + 1.0 i m_{30} + 1.0 i m_{31} & m_{22} + 1.0 i m_{23} + 1.0 i m_{32} - 1.0 m_{33}\\\\m_{02} - 1.0 i m_{03} + m_{12} - 1.0 i m_{13} & m_{00} - m_{01} + m_{10} - m_{11} & m_{22} - 1.0 i m_{23} + 1.0 i m_{32} + 1.0 m_{33} & m_{20} - m_{21} + 1.0 i m_{30} - 1.0 i m_{31}\\\\m_{20} + m_{21} - 1.0 i m_{30} - 1.0 i m_{31} & m_{22} + 1.0 i m_{23} - 1.0 i m_{32} + 1.0 m_{33} & m_{00} + m_{01} - m_{10} - m_{11} & m_{02} + 1.0 i m_{03} - m_{12} - 1.0 i m_{13}\\\\m_{22} - 1.0 i m_{23} - 1.0 i m_{32} - 1.0 m_{33} & m_{20} - m_{21} - 1.0 i m_{30} + 1.0 i m_{31} & m_{02} - 1.0 i m_{03} - m_{12} + 1.0 i m_{13} & m_{00} - m_{01} - m_{10} + m_{11}\\end{matrix}\\right]$"
      ],
      "text/plain": [
       "Matrix([\n",
       "[                m00 + m01 + m10 + m11,     m02 + 1.0*I*m03 + m12 + 1.0*I*m13,     m20 + m21 + 1.0*I*m30 + 1.0*I*m31, m22 + 1.0*I*m23 + 1.0*I*m32 - 1.0*m33],\n",
       "[    m02 - 1.0*I*m03 + m12 - 1.0*I*m13,                 m00 - m01 + m10 - m11, m22 - 1.0*I*m23 + 1.0*I*m32 + 1.0*m33,     m20 - m21 + 1.0*I*m30 - 1.0*I*m31],\n",
       "[    m20 + m21 - 1.0*I*m30 - 1.0*I*m31, m22 + 1.0*I*m23 - 1.0*I*m32 + 1.0*m33,                 m00 + m01 - m10 - m11,     m02 + 1.0*I*m03 - m12 - 1.0*I*m13],\n",
       "[m22 - 1.0*I*m23 - 1.0*I*m32 - 1.0*m33,     m20 - m21 - 1.0*I*m30 + 1.0*I*m31,     m02 - 1.0*I*m03 - m12 + 1.0*I*m13,                 m00 - m01 - m10 + m11]])"
      ]
     },
     "execution_count": 8,
     "metadata": {},
     "output_type": "execute_result"
    }
   ],
   "source": [
    "C = zeros(4,4)\n",
    "for i in range(4):\n",
    "    for j in range(4):\n",
    "        C += symbols(f'm{i}{j}') * np.kron(σ[i], σ[j])\n",
    "C"
   ]
  },
  {
   "cell_type": "code",
   "execution_count": 4,
   "id": "8a2bd485-3e50-45a6-88c4-03e52081e5d8",
   "metadata": {},
   "outputs": [
    {
     "data": {
      "text/latex": [
       "$\\displaystyle \\left[\\begin{matrix}H_{00} + H_{11} + H_{22} + H_{33} & H_{00} - H_{11} + H_{22} - H_{33} & H_{01} + H_{10} + H_{23} + H_{32} & 1.0 i H_{01} - 1.0 i H_{10} + 1.0 i H_{23} - 1.0 i H_{32}\\\\H_{00} + H_{11} - H_{22} - H_{33} & H_{00} - H_{11} - H_{22} + H_{33} & H_{01} + H_{10} - H_{23} - H_{32} & 1.0 i H_{01} - 1.0 i H_{10} - 1.0 i H_{23} + 1.0 i H_{32}\\\\H_{02} + H_{13} + H_{20} + H_{31} & H_{02} - H_{13} + H_{20} - H_{31} & H_{03} + H_{12} + H_{21} + H_{30} & 1.0 i H_{03} - 1.0 i H_{12} + 1.0 i H_{21} - 1.0 i H_{30}\\\\1.0 i H_{02} + 1.0 i H_{13} - 1.0 i H_{20} - 1.0 i H_{31} & 1.0 i H_{02} - 1.0 i H_{13} - 1.0 i H_{20} + 1.0 i H_{31} & 1.0 i H_{03} + 1.0 i H_{12} - 1.0 i H_{21} - 1.0 i H_{30} & - 1.0 H_{03} + 1.0 H_{12} + 1.0 H_{21} - 1.0 H_{30}\\end{matrix}\\right]$"
      ],
      "text/plain": [
       "Matrix([\n",
       "[                        H00 + H11 + H22 + H33,                         H00 - H11 + H22 - H33,                         H01 + H10 + H23 + H32, 1.0*I*H01 - 1.0*I*H10 + 1.0*I*H23 - 1.0*I*H32],\n",
       "[                        H00 + H11 - H22 - H33,                         H00 - H11 - H22 + H33,                         H01 + H10 - H23 - H32, 1.0*I*H01 - 1.0*I*H10 - 1.0*I*H23 + 1.0*I*H32],\n",
       "[                        H02 + H13 + H20 + H31,                         H02 - H13 + H20 - H31,                         H03 + H12 + H21 + H30, 1.0*I*H03 - 1.0*I*H12 + 1.0*I*H21 - 1.0*I*H30],\n",
       "[1.0*I*H02 + 1.0*I*H13 - 1.0*I*H20 - 1.0*I*H31, 1.0*I*H02 - 1.0*I*H13 - 1.0*I*H20 + 1.0*I*H31, 1.0*I*H03 + 1.0*I*H12 - 1.0*I*H21 - 1.0*I*H30,        -1.0*H03 + 1.0*H12 + 1.0*H21 - 1.0*H30]])"
      ]
     },
     "execution_count": 4,
     "metadata": {},
     "output_type": "execute_result"
    }
   ],
   "source": [
    "H = zeros(4, 4)\n",
    "\n",
    "for i in range(H.shape[0]):\n",
    "    for j in range(H.shape[1]):\n",
    "        H[i, j] = symbols(f'H{i}{j}')\n",
    "\n",
    "M = zeros(4)\n",
    "for i in range(M.shape[0]):\n",
    "    for j in range(M.shape[1]):\n",
    "        M[i, j] = Trace(np.kron(σ[i], σ[j]) @ H).simplify()\n",
    "M"
   ]
  },
  {
   "cell_type": "code",
   "execution_count": null,
   "id": "78b8f771-e3b7-4e31-8b87-bfac45159b97",
   "metadata": {},
   "outputs": [],
   "source": []
  }
 ],
 "metadata": {
  "kernelspec": {
   "display_name": "Python 3 (ipykernel)",
   "language": "python",
   "name": "python3"
  },
  "language_info": {
   "codemirror_mode": {
    "name": "ipython",
    "version": 3
   },
   "file_extension": ".py",
   "mimetype": "text/x-python",
   "name": "python",
   "nbconvert_exporter": "python",
   "pygments_lexer": "ipython3",
   "version": "3.8.12"
  }
 },
 "nbformat": 4,
 "nbformat_minor": 5
}
